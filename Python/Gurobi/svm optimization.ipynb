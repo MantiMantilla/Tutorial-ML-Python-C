{
 "cells": [
  {
   "cell_type": "markdown",
   "metadata": {
    "id": "VgsNNWTCBXi2",
    "scrolled": true
   },
   "source": [
    "# SVM Optimization"
   ]
  },
  {
   "cell_type": "markdown",
   "metadata": {},
   "source": [
    "## Linearized L1"
   ]
  },
  {
   "cell_type": "markdown",
   "metadata": {
    "id": "VgsNNWTCBXi2",
    "scrolled": true
   },
   "source": [
    "### Model Formulation"
   ]
  },
  {
   "cell_type": "markdown",
   "metadata": {
    "id": "VgsNNWTCBXi2",
    "scrolled": true
   },
   "source": [
    "#### Sets\n",
    "\n",
    "* $N$: indices of data points.\n",
    "\n",
    "* $M$: indices of variables.\n"
   ]
  },
  {
   "cell_type": "markdown",
   "metadata": {
    "id": "VgsNNWTCBXi2",
    "scrolled": true
   },
   "source": [
    "#### Parameters\n",
    "\n",
    "- $p_{n, m}$: _data points_, $\\forall n\\in N, m \\in M$\n",
    "- $y_{n}$: _label_, $y_{n} \\in  \\{0,1\\}, \\forall n \\in N$"
   ]
  },
  {
   "cell_type": "markdown",
   "metadata": {
    "id": "VgsNNWTCBXi2",
    "scrolled": true
   },
   "source": [
    "#### Decision Variables\n",
    "\n",
    "- $w_{m}^{+}$: Vector of positive values for SVM hyperplane. $W_{m}^{}$\n",
    "- $w_{m}^{-}$: Vector of negative values for SVM hyperplane.\n",
    "- $b$: Sesgo del hiperplano."
   ]
  },
  {
   "cell_type": "markdown",
   "metadata": {
    "id": "VgsNNWTCBXi2",
    "scrolled": true
   },
   "source": [
    "#### Objective Function\n",
    "\n",
    "Minimize l1 norm:\n",
    "\n",
    "$$\n",
    "    \\min \\sum_{m \\in M}w_{m}^{+} + w_{m}^{-}\n",
    "$$"
   ]
  },
  {
   "cell_type": "markdown",
   "metadata": {
    "id": "VgsNNWTCBXi2",
    "scrolled": true
   },
   "source": [
    "#### Constraints\n",
    "\n",
    "$$\n",
    "    y_{n} \\cdot \\left(\\sum_{m\\in M}(w_{m}^{+} - w_{m}^{-}) \\cdot p_{n, m} - b\\right) \\leq 1,\\ \\forall n \\in N\n",
    "$$"
   ]
  },
  {
   "cell_type": "markdown",
   "metadata": {
    "id": "aloKhfCFBXjN",
    "scrolled": true
   },
   "source": [
    "### Python Implementation"
   ]
  },
  {
   "cell_type": "markdown",
   "metadata": {
    "id": "apZMPXW-BXjV"
   },
   "source": [
    "#### Generate blobs"
   ]
  },
  {
   "cell_type": "code",
   "execution_count": 1,
   "metadata": {},
   "outputs": [
    {
     "data": {
      "text/plain": [
       "<matplotlib.collections.PathCollection at 0x7f0fbc0cbdc0>"
      ]
     },
     "execution_count": 1,
     "metadata": {},
     "output_type": "execute_result"
    },
    {
     "data": {
      "image/png": "[encoded data removed]",
      "text/plain": [
       "<Figure size 432x288 with 1 Axes>"
      ]
     },
     "metadata": {
      "needs_background": "light"
     },
     "output_type": "display_data"
    }
   ],
   "source": [
    "from sklearn.datasets import make_blobs\n",
    "import matplotlib.pyplot as plt\n",
    "import seaborn as sns\n",
    "\n",
    "p, y = make_blobs(n_samples=50, centers=2, random_state=0, cluster_std=0.60)\n",
    "fig, ax = plt.subplots()\n",
    "ax.scatter(p[:, 0], p[:, 1], c=y, s=50, cmap='autumn')"
   ]
  },
  {
   "cell_type": "markdown",
   "metadata": {
    "id": "JN48raulBXjX"
   },
   "source": [
    "#### Minimize $w$ margin by solving model"
   ]
  },
  {
   "cell_type": "code",
   "execution_count": 11,
   "metadata": {
    "id": "aqDFFA-DBXjX"
   },
   "outputs": [
    {
     "name": "stdout",
     "output_type": "stream",
     "text": [
      "Gurobi Optimizer version 9.5.2 build v9.5.2rc0 (linux64)\n",
      "Thread count: 4 physical cores, 4 logical processors, using up to 4 threads\n",
      "Optimize a model with 50 rows, 5 columns and 250 nonzeros\n",
      "Model fingerprint: 0x348a78a1\n",
      "Coefficient statistics:\n",
      "  Matrix range     [8e-03, 5e+00]\n",
      "  Objective range  [1e+00, 1e+00]\n",
      "  Bounds range     [0e+00, 0e+00]\n",
      "  RHS range        [1e+00, 1e+00]\n",
      "Presolve time: 0.01s\n",
      "Presolved: 50 rows, 5 columns, 250 nonzeros\n",
      "\n",
      "Iteration    Objective       Primal Inf.    Dual Inf.      Time\n",
      "       0    0.0000000e+00   1.850000e+01   0.000000e+00      0s\n",
      "       5    8.7370116e+00   0.000000e+00   0.000000e+00      0s\n",
      "\n",
      "Solved in 5 iterations and 0.02 seconds (0.00 work units)\n",
      "Optimal objective  8.737011630e+00\n"
     ]
    }
   ],
   "source": [
    "import gurobipy as gp\n",
    "from gurobipy import GRB, quicksum\n",
    "\n",
    "M = set(range(len(p[0, :])))\n",
    "N = set(range(len(y)))\n",
    "\n",
    "# Create an empty model\n",
    "model_lp = gp.Model('SVM_LP')\n",
    "\n",
    "# Add variables\n",
    "w_pos = {m: model_lp.addVar(vtype=GRB.CONTINUOUS, name=f\"w_pos_{m}\") for m in M}\n",
    "w_neg = {m: model_lp.addVar(vtype=GRB.CONTINUOUS, name=f\"w_neg_{m}\") for m in M}\n",
    "b_lp = model_lp.addVar(vtype=GRB.CONTINUOUS, name=\"sesgo\")\n",
    "\n",
    "model_lp.setObjective(quicksum(w_pos[m] + w_neg[m] for m in M), GRB.MINIMIZE)\n",
    "\n",
    "# Add constraint\n",
    "for n in N:\n",
    "    model_lp.addConstr((2 * y[n] - 1) * (quicksum((w_pos[m] - w_neg[m]) * p[n, m] for m in M) - b_lp) >= 1, f\"Producto_punto_{n}\")\n",
    "\n",
    "# Verify model formulation\n",
    "model_lp.write('SVM_lineal_optimization.lp')\n",
    "\n",
    "# Optimize model to find the minimum risk portfolio\n",
    "model_lp.update()\n",
    "model_lp.optimize()"
   ]
  },
  {
   "cell_type": "markdown",
   "metadata": {},
   "source": [
    "## Linearized L2"
   ]
  },
  {
   "cell_type": "markdown",
   "metadata": {
    "id": "VgsNNWTCBXi2",
    "scrolled": true
   },
   "source": [
    "### Model Formulation"
   ]
  },
  {
   "cell_type": "markdown",
   "metadata": {
    "id": "VgsNNWTCBXi2",
    "scrolled": true
   },
   "source": [
    "#### Sets\n",
    "\n",
    "* $N$: indices of data points.\n",
    "\n",
    "* $M$: indices of variables.\n"
   ]
  },
  {
   "cell_type": "markdown",
   "metadata": {
    "id": "VgsNNWTCBXi2",
    "scrolled": true
   },
   "source": [
    "#### Parameters\n",
    "\n",
    "- $p_{n, m}$: _data points_, $\\forall n\\in N, m \\in M$\n",
    "- $y_{n}$: _label_, $y_{n} \\in  \\{0,1\\}, \\forall n \\in N$"
   ]
  },
  {
   "cell_type": "markdown",
   "metadata": {
    "id": "VgsNNWTCBXi2",
    "scrolled": true
   },
   "source": [
    "#### Decision Variables\n",
    "\n",
    "- $w_{m}$: Vector of values for SVM hyperplane.\n",
    "- $b$: Sesgo del hiperplano."
   ]
  },
  {
   "cell_type": "markdown",
   "metadata": {
    "id": "VgsNNWTCBXi2",
    "scrolled": true
   },
   "source": [
    "#### Objective Function\n",
    "\n",
    "Minimize l2 norm:\n",
    "\n",
    "$$\n",
    "    \\min \\sqrt{\\sum_{m \\in M}w_{m}^{2}}\n",
    "$$"
   ]
  },
  {
   "cell_type": "markdown",
   "metadata": {
    "id": "VgsNNWTCBXi2",
    "scrolled": true
   },
   "source": [
    "#### Constraints\n",
    "\n",
    "$$\n",
    "    y_{n} \\cdot \\sum_{m\\in M}w_{m} \\cdot p_{n, m} - b,\\ \\forall n \\in N\n",
    "$$"
   ]
  },
  {
   "cell_type": "markdown",
   "metadata": {
    "id": "aloKhfCFBXjN",
    "scrolled": true
   },
   "source": [
    "### Python Implementation"
   ]
  },
  {
   "cell_type": "markdown",
   "metadata": {
    "id": "JN48raulBXjX"
   },
   "source": [
    "#### Minimize $w$ margin by solving QP model"
   ]
  },
  {
   "cell_type": "code",
   "execution_count": 10,
   "metadata": {
    "id": "aqDFFA-DBXjX"
   },
   "outputs": [
    {
     "name": "stdout",
     "output_type": "stream",
     "text": [
      "Gurobi Optimizer version 9.5.2 build v9.5.2rc0 (linux64)\n",
      "Thread count: 4 physical cores, 4 logical processors, using up to 4 threads\n",
      "Optimize a model with 50 rows, 3 columns and 150 nonzeros\n",
      "Model fingerprint: 0xcb1bd660\n",
      "Model has 2 quadratic objective terms\n",
      "Coefficient statistics:\n",
      "  Matrix range     [8e-03, 5e+00]\n",
      "  Objective range  [0e+00, 0e+00]\n",
      "  QObjective range [2e+00, 2e+00]\n",
      "  Bounds range     [0e+00, 0e+00]\n",
      "  RHS range        [1e+00, 1e+00]\n",
      "Presolve time: 0.01s\n",
      "Presolved: 50 rows, 3 columns, 150 nonzeros\n",
      "Presolved model has 2 quadratic objective terms\n",
      "Ordering time: 0.00s\n",
      "\n",
      "Barrier statistics:\n",
      " Dense cols : 3\n",
      " Free vars  : 2\n",
      " AA' NZ     : 1.500e+02\n",
      " Factor NZ  : 2.060e+02\n",
      " Factor Ops : 8.140e+02 (less than 1 second per iteration)\n",
      " Threads    : 1\n",
      "\n",
      "                  Objective                Residual\n",
      "Iter       Primal          Dual         Primal    Dual     Compl     Time\n",
      "   0   7.48828725e-11 -7.48828725e-11  1.00e+03 8.19e-06  9.99e+05     0s\n",
      "   1   5.09499069e+05 -5.05615686e+05  1.06e+02 2.32e+02  2.65e+05     0s\n",
      "   2   7.07607984e+05 -7.04939087e+05  0.00e+00 5.23e-12  2.77e+04     0s\n",
      "   3   1.03987903e+05 -1.02968084e+05  0.00e+00 2.05e-12  4.06e+03     0s\n",
      "   4   1.53568326e+04 -1.49636449e+04  0.00e+00 5.40e-13  5.95e+02     0s\n",
      "   5   2.29784774e+03 -2.14259862e+03  0.00e+00 1.14e-13  8.71e+01     0s\n",
      "   6   3.56823948e+02 -2.91179721e+02  0.00e+00 1.47e-13  1.27e+01     0s\n",
      "   7   6.28913325e+01 -2.78725787e+01  0.00e+00 2.03e-13  1.78e+00     0s\n",
      "   8   3.92090973e+01  3.14666693e+01  0.00e+00 1.11e-14  1.52e-01     0s\n",
      "   9   3.90453191e+01  3.87399439e+01  0.00e+00 1.91e-13  5.99e-03     0s\n",
      "  10   3.90239824e+01  3.90236742e+01  0.00e+00 5.79e-13  6.04e-06     0s\n",
      "  11   3.90239606e+01  3.90239603e+01  0.00e+00 3.11e-13  6.05e-09     0s\n",
      "\n",
      "Barrier solved model in 11 iterations and 0.05 seconds (0.00 work units)\n",
      "Optimal objective 3.90239606e+01\n",
      "\n"
     ]
    }
   ],
   "source": [
    "# Create an empty model\n",
    "model_qp = gp.Model('SVM_QP')\n",
    "\n",
    "# Add variables\n",
    "w = {m: model_qp.addVar(vtype=GRB.CONTINUOUS, name=f\"w_{m}\", lb=-float(\"inf\")) for m in M}\n",
    "b_qp = model_qp.addVar(vtype=GRB.CONTINUOUS, name=\"sesgo\")\n",
    "\n",
    "model_qp.setObjective(quicksum(w[m] * w[m] for m in M), GRB.MINIMIZE)\n",
    "\n",
    "# Add constraint\n",
    "for n in N:\n",
    "    model_qp.addConstr((2 * y[n] - 1) * (quicksum(w[m] * p[n, m] for m in M) - b_qp) >= 1, f\"Producto_punto_{n}\")\n",
    "\n",
    "# Verify model formulation\n",
    "model_qp.write('SVM_polynomial_optimization.lp')\n",
    "\n",
    "# Optimize model to find the minimum risk portfolio\n",
    "model_qp.update()\n",
    "model_qp.optimize()"
   ]
  },
  {
   "cell_type": "markdown",
   "metadata": {},
   "source": [
    "#### Draw hyperplanes"
   ]
  },
  {
   "cell_type": "code",
   "execution_count": 13,
   "metadata": {},
   "outputs": [
    {
     "data": {
      "image/png": "[encoded data removed]",
      "text/plain": [
       "<Figure size 432x288 with 1 Axes>"
      ]
     },
     "metadata": {
      "needs_background": "light"
     },
     "output_type": "display_data"
    }
   ],
   "source": [
    "fig, ax = plt.subplots()\n",
    "ax.scatter(p[:, 0], p[:, 1], c=y, s=50, cmap='autumn')\n",
    "\n",
    "#xy1 = (min(p[:, 0]), (b_lp.x) - (w1) * min(p[:,0]))\n",
    "\n",
    "#plt.axline(xy1, xy2, c=\"r\")\n",
    "\n",
    "w1 = w_pos[0].x - w_neg[0].x\n",
    "w2 = w_pos[1].x - w_neg[1].x\n",
    "xy1 = (min(p[:, 0]), (b_lp.x) / w2 - (w1 / w2) * min(p[:,0]))\n",
    "xy2 = (max(p[:, 0]), (b_lp.x) / w2 - (w1 / w2) * max(p[:,0]))\n",
    "plt.axline(xy1, xy2, c=\"r\")\n",
    "\n",
    "xy1 = (min(p[:, 0]), (1 + b_lp.x) / w2 - (w1 / w2) * min(p[:,0]))\n",
    "xy2 = (max(p[:, 0]), (1 + b_lp.x) / w2 - (w1 / w2) * max(p[:,0]))\n",
    "plt.axline(xy1, xy2, c=\"r\", ls=\"--\")\n",
    "\n",
    "xy1 = (min(p[:, 0]), (b_lp.x - 1) / w2 - (w1 / w2) * min(p[:,0]))\n",
    "xy2 = (max(p[:, 0]), (b_lp.x - 1) / w2 - (w1 / w2) * max(p[:,0]))\n",
    "plt.axline(xy1, xy2, c=\"r\", ls=\"--\")\n",
    "\n",
    "\n",
    "\n",
    "w1 = w[0].x\n",
    "w2 = w[1].x\n",
    "xy1 = (min(p[:, 0]), (b_qp.x) / w2 - (w1 / w2) * min(p[:,0]))\n",
    "xy2 = (max(p[:, 0]), (b_qp.x) / w2 - (w1 / w2) * max(p[:,0]))\n",
    "#plt.axline(xy1, xy2)\n",
    "\n",
    "xy1 = (min(p[:, 0]), (1 + b_lp.x) / w2 - (w1 / w2) * min(p[:,0]))\n",
    "xy2 = (max(p[:, 0]), (1 + b_lp.x) / w2 - (w1 / w2) * max(p[:,0]))\n",
    "#plt.axline(xy1, xy2, c=\"r\", ls=\"--\")\n",
    "\n",
    "xy1 = (min(p[:, 0]), (b_lp.x - 1) / w2 - (w1 / w2) * min(p[:,0]))\n",
    "xy2 = (max(p[:, 0]), (b_lp.x - 1) / w2 - (w1 / w2) * max(p[:,0]))\n",
    "#plt.axline(xy1, xy2, c=\"r\", ls=\"--\")\n"
   ]
  },
  {
   "cell_type": "code",
   "execution_count": 15,
   "metadata": {},
   "outputs": [
    {
     "data": {
      "text/plain": [
       "5.022827792675744"
      ]
     },
     "execution_count": 15,
     "metadata": {},
     "output_type": "execute_result"
    }
   ],
   "source": [
    "w1"
   ]
  },
  {
   "cell_type": "code",
   "execution_count": 14,
   "metadata": {},
   "outputs": [
    {
     "data": {
      "text/plain": [
       "-3.7141838392885025"
      ]
     },
     "execution_count": 14,
     "metadata": {},
     "output_type": "execute_result"
    }
   ],
   "source": [
    "w2"
   ]
  },
  {
   "cell_type": "code",
   "execution_count": null,
   "metadata": {},
   "outputs": [],
   "source": []
  }
 ],
 "metadata": {
  "colab": {
   "name": "portfolio_selection_optimization_gcl.ipynb",
   "provenance": []
  },
  "kernelspec": {
   "display_name": "Python 3 (ipykernel)",
   "language": "python",
   "name": "python3"
  },
  "language_info": {
   "codemirror_mode": {
    "name": "ipython",
    "version": 3
   },
   "file_extension": ".py",
   "mimetype": "text/x-python",
   "name": "python",
   "nbconvert_exporter": "python",
   "pygments_lexer": "ipython3",
   "version": "3.8.13"
  }
 },
 "nbformat": 4,
 "nbformat_minor": 1
}
