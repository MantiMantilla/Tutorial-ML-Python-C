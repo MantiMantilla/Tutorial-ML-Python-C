{
 "cells": [
  {
   "cell_type": "markdown",
   "metadata": {
    "id": "M5wQ_n-XXvlV"
   },
   "source": [
    "**Cargando archivos de Google Drive en Colab**\n",
    "\n",
    "Monte el drive en Colab con el siguiente comando"
   ]
  },
  {
   "cell_type": "code",
   "execution_count": null,
   "metadata": {
    "colab": {
     "base_uri": "https://localhost:8080/"
    },
    "executionInfo": {
     "elapsed": 29539,
     "status": "ok",
     "timestamp": 1656403689323,
     "user": {
      "displayName": "Juan F Pérez",
      "userId": "13439628769322192552"
     },
     "user_tz": 300
    },
    "id": "Pxg-UpYwWcIj",
    "outputId": "49edf5eb-b32e-4203-92b0-8076704efc63"
   },
   "outputs": [
    {
     "name": "stdout",
     "output_type": "stream",
     "text": [
      "Mounted at /content/drive\n"
     ]
    }
   ],
   "source": [
    "from google.colab import drive\n",
    "drive.mount('/content/drive')"
   ]
  },
  {
   "cell_type": "markdown",
   "metadata": {
    "id": "cVrFHalRXt1H"
   },
   "source": [
    "Importe la librería pandas para leer un archivo CSV en un dataframe"
   ]
  },
  {
   "cell_type": "code",
   "execution_count": null,
   "metadata": {
    "id": "zHLu5x8kXIyn"
   },
   "outputs": [],
   "source": [
    "import pandas as pd"
   ]
  },
  {
   "cell_type": "markdown",
   "metadata": {
    "id": "8vZTyxBBYN-4"
   },
   "source": [
    "Para cargar el archivo provea la dirección completa en su drive, antecedida por '/content/drive/My Drive/' como se muestra a continuación:"
   ]
  },
  {
   "cell_type": "code",
   "execution_count": null,
   "metadata": {
    "id": "5L_Rv9GWXRZe"
   },
   "outputs": [],
   "source": [
    "# Create a Data Frame from a CSV file:\n",
    "titanic = pd.read_csv(\"/content/drive/My Drive/22_mml/lab-python/titanic.csv\")"
   ]
  }
 ],
 "metadata": {
  "colab": {
   "authorship_tag": "ABX9TyM1xnVrdnIkaqmBeTSWzqYp",
   "name": "conectar_colab.ipynb",
   "provenance": []
  },
  "kernelspec": {
   "display_name": "Python 3 (ipykernel)",
   "language": "python",
   "name": "python3"
  },
  "language_info": {
   "codemirror_mode": {
    "name": "ipython",
    "version": 3
   },
   "file_extension": ".py",
   "mimetype": "text/x-python",
   "name": "python",
   "nbconvert_exporter": "python",
   "pygments_lexer": "ipython3",
   "version": "3.8.13"
  }
 },
 "nbformat": 4,
 "nbformat_minor": 1
}
